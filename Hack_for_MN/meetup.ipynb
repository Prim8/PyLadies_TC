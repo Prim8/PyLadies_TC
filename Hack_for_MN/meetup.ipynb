{
 "metadata": {
  "name": "",
  "signature": "sha256:03fc5f047a86a054eab7b12552e84617c308ef9fb3d7d29e01c9183c244d23bb"
 },
 "nbformat": 3,
 "nbformat_minor": 0,
 "worksheets": [
  {
   "cells": [
    {
     "cell_type": "markdown",
     "metadata": {},
     "source": [
      "# A study of the Python community members in Minnesota classified by gender\n",
      "This IPython notebook is just a starting point and is still in progress....\n",
      "\n",
      "It aims to retrieve members' infomation from the main Python meetup group in Minnesota in order to determine the involvement (e.g. participation rates, interests) of males versus females in the tech and computer science industry. \n",
      "\n",
      "Data scraping is used via the <a href=\"http://www.meetup.com/meetup_api/\" target=\"_blank\">meetup.com API</a>. For security purposes, the url in this notebook is left blank. However, one can easily request a personal API via the meetup API website (membership is required). "
     ]
    },
    {
     "cell_type": "code",
     "collapsed": false,
     "input": [
      "import requests\n",
      "import json\n",
      "import pandas as pd"
     ],
     "language": "python",
     "metadata": {},
     "outputs": []
    },
    {
     "cell_type": "code",
     "collapsed": false,
     "input": [
      "def scrape_members(url):\n",
      "    \n",
      "    '''\n",
      "    FUNCTION: \n",
      "                scrape_members\n",
      "    PARAMETERS: \n",
      "                url: str\n",
      "                do not forget quotation marks\n",
      "                Utilize meetup.com's members API to access members database of groups.\n",
      "                Input whatever parameters into the API Console (http://www.meetup.com/meetup_api/console/)\n",
      "                For instance:\n",
      "                    group_urlname: PyLadies (unique name in group's URL)\n",
      "                    page: 200 (number of entries to include)\n",
      "                    only: name (only return member name)\n",
      "                Utilize returned signed URL\n",
      "    RETURNS:\n",
      "                result: List of results according to the parameters specified in the meetup API Console\n",
      "\n",
      "    EXAMPLE: \n",
      "                scrape_members('') # insert API url inside this quote\n",
      "                output: [u'Alison Link',\n",
      "                         u'Angie',\n",
      "                         u'Anna Mandy', .....]\n",
      "\n",
      "    '''\n",
      "    # Extract raw data from the meetup page\n",
      "    rawdata = requests.get(url).text # type(rawdata) = unicode\n",
      "\n",
      "    # Convert json dictionary into python dictionary\n",
      "    dictionary = json.loads(rawdata) # type(dictionary) = dict\n",
      "\n",
      "    # Isolate data stored by 'results' key\n",
      "    result = dictionary['results'] # type(result) = list\n",
      "    \n",
      "    return result"
     ],
     "language": "python",
     "metadata": {},
     "outputs": []
    },
    {
     "cell_type": "markdown",
     "metadata": {},
     "source": [
      "> As of June 22 2014, PyMNtos has 382 members. The maximum number of page requests allowed by the meetup API is 200, therefore we need to collect the data in two steps. First we call the first 200 pages (page = 200) and use offset = 0. We repeat one more time with offset = 1 to collect the remaining data:"
     ]
    },
    {
     "cell_type": "code",
     "collapsed": false,
     "input": [
      "# url for the first 200 entries\n",
      "PyMNtos_url_0 = '' # insert API url inside this quote\n",
      "\n",
      "# url for the remaining\n",
      "PyMNtos_url_1 = '' # insert API url inside this quote\n",
      "\n",
      "# Call the function\n",
      "PyMNtos_0 = scrape_members(PyMNtos_url_0) # type(PyMNtos_0) = list\n",
      "PyMNtos_1 = scrape_members(PyMNtos_url_1) # type(PyMNtos_1) = list"
     ],
     "language": "python",
     "metadata": {},
     "outputs": []
    },
    {
     "cell_type": "code",
     "collapsed": false,
     "input": [
      "# Create data frames\n",
      "df0 = pd.DataFrame(PyMNtos_0)\n",
      "df1 = pd.DataFrame(PyMNtos_1)\n",
      "\n",
      "print df0.shape\n",
      "print\n",
      "print df0.columns.values\n",
      "print\n",
      "print df1.shape\n",
      "print\n",
      "print df1.columns.values"
     ],
     "language": "python",
     "metadata": {},
     "outputs": []
    },
    {
     "cell_type": "code",
     "collapsed": false,
     "input": [
      "# combine data frames\n",
      "data = df0.append(df1)\n",
      "print data.shape"
     ],
     "language": "python",
     "metadata": {},
     "outputs": []
    },
    {
     "cell_type": "code",
     "collapsed": false,
     "input": [
      "data[:2] # first two rows"
     ],
     "language": "python",
     "metadata": {},
     "outputs": []
    },
    {
     "cell_type": "code",
     "collapsed": false,
     "input": [
      "# save into a csv format (may be optional)\n",
      "data.to_csv(\"data.csv\", encoding='utf-8')"
     ],
     "language": "python",
     "metadata": {},
     "outputs": []
    }
   ],
   "metadata": {}
  }
 ]
}